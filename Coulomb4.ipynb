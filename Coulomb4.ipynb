{
 "cells": [
  {
   "cell_type": "code",
   "execution_count": 2,
   "metadata": {},
   "outputs": [
    {
     "data": {
      "text/html": [
       "<script>\n",
       "    // AUTORUN ALL CELLS ON NOTEBOOK-LOAD!\n",
       "    require(\n",
       "        ['base/js/namespace', 'jquery'], \n",
       "        function(jupyter, $) {\n",
       "            $(jupyter.events).on(\"kernel_ready.Kernel\", function () {\n",
       "                console.log(\"Auto-running all cells-below...\");\n",
       "                jupyter.actions.call('jupyter-notebook:run-all-cells-below');\n",
       "                jupyter.actions.call('jupyter-notebook:save-notebook');\n",
       "            $('#header').toggle();\n",
       "            //jupyter.actions.call('jupyter-notebook:toggle-toolbar')\n",
       "            //jupyter.actions.call('jupyter-notebook:toggle-header')            \n",
       "           //$('#menubar').toggle();\n",
       "            $('#site').height('100%')\n",
       "            $('#notebook-container').width('100%')\n",
       "\n",
       "            });\n",
       "        }\n",
       "    );\n",
       "</script>"
      ],
      "text/plain": [
       "<IPython.core.display.HTML object>"
      ]
     },
     "metadata": {},
     "output_type": "display_data"
    }
   ],
   "source": [
    "%%html\n",
    "<script>\n",
    "    // AUTORUN ALL CELLS ON NOTEBOOK-LOAD!\n",
    "    require(\n",
    "        ['base/js/namespace', 'jquery'], \n",
    "        function(jupyter, $) {\n",
    "            $(jupyter.events).on(\"kernel_ready.Kernel\", function () {\n",
    "                console.log(\"Auto-running all cells-below...\");\n",
    "                jupyter.actions.call('jupyter-notebook:run-all-cells-below');\n",
    "                jupyter.actions.call('jupyter-notebook:save-notebook');\n",
    "            $('#header').toggle();\n",
    "            //jupyter.actions.call('jupyter-notebook:toggle-toolbar')\n",
    "            //jupyter.actions.call('jupyter-notebook:toggle-header')            \n",
    "           //$('#menubar').toggle();\n",
    "            $('#site').height('100%')\n",
    "            $('#notebook-container').width('100%')\n",
    "\n",
    "            });\n",
    "        }\n",
    "    );\n",
    "</script>"
   ]
  },
  {
   "cell_type": "code",
   "execution_count": 3,
   "metadata": {
    "collapsed": true
   },
   "outputs": [],
   "source": [
    "import numpy as np\n",
    "import bqplot as bq\n",
    "import ipywidgets as ipw\n",
    "t=np.linspace(0,15,300)\n",
    "# these are the solutions to the differential equation for a particle moving in\n",
    "# a homogenius electric and magnetic field, provided the fields are perpendicular \n",
    "# and the particle moves in the plane perpendicular to B\n",
    "\n",
    "def solution(Ex=0,Ey=1,B=1,v0x=0,v0y=1):\n",
    "    'this is the position'\n",
    "    return [Ex*(1-np.cos(B*t))/B**2+Ey*(t/B-np.sin(B*t)/B**2)+v0x*np.sin(B*t)/B+v0y*(1-np.cos(B*t))/B,\n",
    "            Ey*(1-np.cos(B*t))/B**2-Ex*(t/B-np.sin(B*t)/B**2)+v0y*np.sin(B*t)/B-v0x*(1-np.cos(B*t))/B]\n",
    "\n",
    "def sol_vt(t,Ex=0,Ey=1,B=1,v0x=0,v0y=1):\n",
    "    'this is the velocity'\n",
    "    return [Ey*(-np.cos(B*t)/B + 1/B) + v0x*np.cos(B*t) + v0y*np.sin(B*t) + Ex*np.sin(B*t)/B,\n",
    "            -Ex*(-np.cos(B*t)/B + 1/B) - v0x*np.sin(B*t) + v0y*np.cos(B*t) + Ey*np.sin(B*t)/B]\n",
    "\n",
    "def sol_at(t,Ex=0,Ey=1,B=1,v0x=0,v0y=1):\n",
    "    'this is the acceleration'\n",
    "    return [-B*v0x*np.sin(B*t) + B*v0y*np.cos(B*t) + Ex*np.cos(B*t) + Ey*np.sin(B*t),\n",
    "            -B*v0x*np.cos(B*t) - B*v0y*np.sin(B*t) - Ex*np.sin(B*t) + Ey*np.cos(B*t)]\n",
    "# in this cell we define the figure representing the real space orbit of the particle\n",
    "orbit_x,orbit_y=solution(v0x=0,v0y=1)# the initial path of the particle\n",
    "v_x,v_y=sol_vt(0,v0x=0,v0y=1)# the velocity  of the particle\n",
    "a_x,a_y=sol_at(0,v0x=0,v0y=1)# the acceleration of the particle\n",
    "\n",
    "sc=bq.LinearScale(min=-5,max=5)# definition of the scale for plotting\n",
    "orb=bq.Lines(x=orbit_x,y=orbit_y,scales=dict(x=sc,y=sc)) # this object represents the orbit of the particle\n",
    "\n",
    "# the three objects below constitute the direction picker of the initial velocity\n",
    "v0ept=bq.Scatter(x=[0],y=[1],rotation=[0],colors=['Cyan'],marker='triangle-up',\n",
    "                 scales=dict(x=sc,y=sc,rotation=bq.LinearScale(min=0,max=180))) #the arrow marker at the end\n",
    "v0li=bq.Lines(x=[0,0],y=[0,1],colors=['Cyan'],scales=dict(x=sc,y=sc)) # the line body of the arrow\n",
    "# this object is used for tracking interactions\n",
    "v0eptp=bq.Scatter(x=[0],y=[1],rotation=[0],colors=['Cyan'],\n",
    "                 enable_move=True,\n",
    "                 scales=dict(x=sc,y=sc,\n",
    "                             opacity=bq.LinearScale(min=0,max=1),\n",
    "                             size=bq.LinearScale(min=0,max=1)),\n",
    "                 opacity=[0.0],size=[.1])\n",
    "\n",
    "# these objects track the position velocity and acceleration of a single particle\n",
    "posi=bq.Scatter(x=[orbit_x[0]],y=[orbit_y[0]],scales=dict(x=sc,y=sc),colors=['Red'],marker='circle') # marker for the position\n",
    "\n",
    "vept=bq.Scatter(x=[posi.x[0]+v_x],y=[posi.y[0]+v_y],rotation=[0],colors=['Red'],marker='triangle-up',       # marker for velocity\n",
    "                 scales=dict(x=sc,y=sc,rotation=bq.LinearScale(min=0,max=180)))                             # the arrow marker at the end\n",
    "vli=bq.Lines(x=[posi.x[0],posi.x[0]+v_x],y=[posi.y[0],posi.y[0]+v_y],colors=['Red'],scales=dict(x=sc,y=sc)) # the line body of the arrow\n",
    "\n",
    "\n",
    "aept=bq.Scatter(x=[posi.x[0]+a_x],y=[posi.y[0]+a_y],rotation=[np.arctan2(a_x,a_y)/np.pi*180],colors=['DarkGreen'],marker='triangle-up',       # marker for acceleration\n",
    "                 scales=dict(x=sc,y=sc,rotation=bq.LinearScale(min=0,max=180)))                                   # the arrow marker at the end\n",
    "ali=bq.Lines(x=[posi.x[0],posi.x[0]+a_x],y=[posi.y[0],posi.y[0]+a_y],colors=['DarkGreen'],scales=dict(x=sc,y=sc)) # the line body of the arrow\n",
    "\n",
    "# some label text\n",
    "v0label=bq.Label(text=['kezdő sebesség'],x=[-4.5],y=[-4],scales=dict(x=sc,y=sc),colors=['Cyan'])\n",
    "vlabel=bq.Label(text=['sebesség'],x=[-4.5],y=[-4.3],scales=dict(x=sc,y=sc),colors=['Red'])\n",
    "alabel=bq.Label(text=['gyorsulás'],x=[-4.5],y=[-4.6],scales=dict(x=sc,y=sc),colors=['DarkGreen'])\n",
    "# composing the above objects we create the figure \n",
    "orb_fig=bq.Figure(marks  = [orb,posi,vli,vept,ali,aept,v0li,v0ept,v0eptp,v0label,vlabel,alabel],\n",
    "                  layout = dict(width='600px',height='600px'))\n",
    "# in this cell we define the direction picker for the external electric field\n",
    "sc=bq.LinearScale(min=-1,max=1);scdict=dict(x=sc,y=sc) # definition of the scale for plotting\n",
    "\n",
    "li=bq.Lines(x=[0,0],y=[0,1],colors=['DarkCyan'],scales=scdict) # the line body of the arrow\n",
    "endpt=bq.Scatter(x=[0],y=[1],rotation=[0],colors=['DarkCyan'],marker='triangle-up',\n",
    "                 scales=dict(x=sc,y=sc,rotation=bq.LinearScale(min=0,max=180))) #the arrow marker at the end\n",
    "# this object is used for tracking interactions\n",
    "endptp=bq.Scatter(x=[0],y=[1],colors=['DarkCyan'],\n",
    "                 enable_move=True,\n",
    "                  scales=dict(x=sc,y=sc,opacity=bq.LinearScale(min=0,max=1),size=bq.LinearScale(min=0,max=1)),\n",
    "                  opacity=[0.0],size=[.1])\n",
    "# thhe object below is just to write a text\n",
    "titletext=bq.Label(text=['E tér iránya és nagysága'],x=[-0.8],y=[-0.8],scales=scdict,colors=['DarkCyan'])\n",
    "#composing the above objects we create the figure \n",
    "Eter=bq.Figure(marks=[endpt,li,endptp,titletext],layout=dict(width='400px',height='400px'))\n",
    "# This slider serves as an input for the magnetic field\n",
    "Brule=ipw.FloatSlider(min=-2,max=2,value=1,step=0.012,orientation='horizontal',description='B tér')\n",
    "# This slider serves as an input for the magnetic field\n",
    "trule=ipw.IntSlider(min=0,max=len(t)-1,value=0,orientation='horizontal',\n",
    "                    description='t',readout=False,layout=ipw.Layout(width='50%'))\n",
    "\n",
    "# These buttons toggle the electric field and initial velocity\n",
    "extra_buttons=ipw.HBox([ipw.ToggleButton(value=True,description='E tér',button_style='info'),\n",
    "                        ipw.ToggleButton(value=True,description='kezdő sebesség',\n",
    "                                         button_style='info', layout=ipw.Layout(width='50%'))])\n",
    "# This cell conncts the electric field input to the particle orbit\n",
    "def call_back_E(name, value):\n",
    "    if value['point']:\n",
    "        E_is_0=float(extra_buttons.children[0].value)\n",
    "        v0_is_0=float(extra_buttons.children[1].value)\n",
    "        X=value['point']['x']\n",
    "        Y=value['point']['y']\n",
    "        li.x=[0,X]\n",
    "        li.y=[0,Y]\n",
    "        endpt.x=[X]\n",
    "        endpt.y=[Y]\n",
    "        endpt.rotation=[np.arctan2(X,Y)/np.pi*180]\n",
    "        v0x,v0y=v0ept.x[0],v0ept.y[0]\n",
    "        orbit_x,orbit_y=solution(Ex=E_is_0*X,Ey=E_is_0*Y,\n",
    "                                 B=Brule.value,\n",
    "                                 v0x=v0_is_0*v0x,v0y=v0_is_0*v0y)\n",
    "        orb.x=orbit_x\n",
    "        orb.y=orbit_y\n",
    "        rx,ry=orbit_x[trule.value],orbit_y[trule.value]\n",
    "        rt=t[trule.value]\n",
    "        vx,vy=sol_vt(rt,Ex=E_is_0*X,Ey=E_is_0*Y,\n",
    "                                 B=Brule.value,\n",
    "                                 v0x=v0_is_0*v0x,v0y=v0_is_0*v0y)\n",
    "        ax,ay=sol_at(rt,Ex=E_is_0*X,Ey=E_is_0*Y,\n",
    "                                 B=Brule.value,\n",
    "                                 v0x=v0_is_0*v0x,v0y=v0_is_0*v0y)\n",
    "        \n",
    "        posi.x=[rx]\n",
    "        posi.y=[ry]\n",
    "        \n",
    "        vli.x=[rx,rx+vx]\n",
    "        vli.y=[ry,ry+vy]\n",
    "        vept.x=[rx+vx]\n",
    "        vept.y=[ry+vy]\n",
    "        vept.rotation=[np.arctan2(vx,vy)/np.pi*180] \n",
    "\n",
    "        ali.x=[rx,rx+ax]\n",
    "        ali.y=[ry,ry+ay]\n",
    "        aept.x=[rx+ax]\n",
    "        aept.y=[ry+ay]\n",
    "        aept.rotation=[np.arctan2(ax,ay)/np.pi*180] \n",
    "\n",
    "        \n",
    "        \n",
    "endptp.on_drag(call_back_E)\n",
    "endptp.on_drag_end(call_back_E)\n",
    "# This cell conncts the initial velocity input to the particle orbit\n",
    "def call_back_v0(name, value):\n",
    "    if value['point']:\n",
    "        E_is_0=float(extra_buttons.children[0].value)\n",
    "        v0_is_0=float(extra_buttons.children[1].value)\n",
    "        X=value['point']['x']\n",
    "        Y=value['point']['y']\n",
    "        v0li.x=[0,X]\n",
    "        v0li.y=[0,Y]\n",
    "        v0ept.x=[X]\n",
    "        v0ept.y=[Y]\n",
    "        v0ept.rotation=[np.arctan2(X,Y)/np.pi*180] \n",
    "        Ex,Ey=endpt.x[0],endpt.y[0]\n",
    "        orbit_x,orbit_y=solution(Ex=E_is_0*Ex,Ey=E_is_0*Ey,\n",
    "                                 B=Brule.value,\n",
    "                                 v0x=v0_is_0*X,v0y=v0_is_0*Y)\n",
    "        orb.x=orbit_x\n",
    "        orb.y=orbit_y\n",
    "        rx,ry=orbit_x[trule.value],orbit_y[trule.value]\n",
    "        rt=t[trule.value]\n",
    "        vx,vy=sol_vt(rt,Ex=E_is_0*Ex,Ey=E_is_0*Ey,\n",
    "                                 B=Brule.value,\n",
    "                                 v0x=v0_is_0*X,v0y=v0_is_0*Y)\n",
    "        ax,ay=sol_at(rt,Ex=E_is_0*Ex,Ey=E_is_0*Ey,\n",
    "                                 B=Brule.value,\n",
    "                                 v0x=v0_is_0*X,v0y=v0_is_0*Y)\n",
    "        \n",
    "        posi.x=[rx]\n",
    "        posi.y=[ry]\n",
    "        \n",
    "        vli.x=[rx,rx+vx]\n",
    "        vli.y=[ry,ry+vy]\n",
    "        vept.x=[rx+vx]\n",
    "        vept.y=[ry+vy]\n",
    "        vept.rotation=[np.arctan2(vx,vy)/np.pi*180] \n",
    "\n",
    "        ali.x=[rx,rx+ax]\n",
    "        ali.y=[ry,ry+ay]\n",
    "        aept.x=[rx+ax]\n",
    "        aept.y=[ry+ay]\n",
    "        aept.rotation=[np.arctan2(ax,ay)/np.pi*180] \n",
    "        \n",
    "        \n",
    "v0eptp.on_drag(call_back_v0)\n",
    "v0eptp.on_drag_end(call_back_v0)\n",
    "# interaction definitions upon changing the magnetic field\n",
    "def handle_Bslider_change(change):\n",
    "        E_is_0=float(extra_buttons.children[0].value)\n",
    "        v0_is_0=float(extra_buttons.children[1].value)\n",
    "        orbit_x,orbit_y=solution(Ex=E_is_0*endpt.x[0],Ey=E_is_0*endpt.y[0],\n",
    "                                 B=change.new,\n",
    "                                 v0x=v0_is_0*v0ept.x[0],\n",
    "                                 v0y=v0_is_0*v0ept.y[0])\n",
    "        orb.x=orbit_x\n",
    "        orb.y=orbit_y\n",
    "        rx,ry=orbit_x[trule.value],orbit_y[trule.value]\n",
    "        rt=t[trule.value]\n",
    "        vx,vy=sol_vt(rt,Ex=E_is_0*endpt.x[0],Ey=E_is_0*endpt.y[0],\n",
    "                                 B=change.new,\n",
    "                                 v0x=v0_is_0*v0ept.x[0],\n",
    "                                 v0y=v0_is_0*v0ept.y[0])\n",
    "        ax,ay=sol_at(rt,Ex=E_is_0*endpt.x[0],Ey=E_is_0*endpt.y[0],\n",
    "                                 B=change.new,\n",
    "                                 v0x=v0_is_0*v0ept.x[0],\n",
    "                                 v0y=v0_is_0*v0ept.y[0])\n",
    "        \n",
    "\n",
    "        posi.x=[rx]\n",
    "        posi.y=[ry]\n",
    "        \n",
    "        vli.x=[rx,rx+vx]\n",
    "        vli.y=[ry,ry+vy]\n",
    "        vept.x=[rx+vx]\n",
    "        vept.y=[ry+vy]\n",
    "        vept.rotation=[np.arctan2(vx,vy)/np.pi*180] \n",
    "\n",
    "        ali.x=[rx,rx+ax]\n",
    "        ali.y=[ry,ry+ay]\n",
    "        aept.x=[rx+ax]\n",
    "        aept.y=[ry+ay]\n",
    "        aept.rotation=[np.arctan2(ax,ay)/np.pi*180] \n",
    "        \n",
    "# enableing hooks for the slider \n",
    "Brule.observe(handle_Bslider_change, names='value')\n",
    "\n",
    "# interaction definitions upon changing time\n",
    "def handle_tslider_change(change):\n",
    "        E_is_0=float(extra_buttons.children[0].value) \n",
    "        v0_is_0=float(extra_buttons.children[1].value)\n",
    "        orbit_x,orbit_y=solution(Ex=E_is_0*endpt.x[0],Ey=E_is_0*endpt.y[0],\n",
    "                                 B=Brule.value,\n",
    "                                 v0x=v0_is_0*v0ept.x[0],\n",
    "                                 v0y=v0_is_0*v0ept.y[0])\n",
    "        orb.x=orbit_x\n",
    "        orb.y=orbit_y\n",
    "        rx,ry=orbit_x[change.new],orbit_y[change.new]\n",
    "        rt=t[change.new]\n",
    "        vx,vy=sol_vt(rt,Ex=E_is_0*endpt.x[0],Ey=E_is_0*endpt.y[0],\n",
    "                                 B=Brule.value,\n",
    "                                 v0x=v0_is_0*v0ept.x[0],\n",
    "                                 v0y=v0_is_0*v0ept.y[0])\n",
    "        ax,ay=sol_at(rt,Ex=E_is_0*endpt.x[0],Ey=E_is_0*endpt.y[0],\n",
    "                                 B=Brule.value,\n",
    "                                 v0x=v0_is_0*v0ept.x[0],\n",
    "                                 v0y=v0_is_0*v0ept.y[0])\n",
    "        \n",
    "\n",
    "        posi.x=[rx]\n",
    "        posi.y=[ry]\n",
    "        \n",
    "        vli.x=[rx,rx+vx]\n",
    "        vli.y=[ry,ry+vy]\n",
    "        vept.x=[rx+vx]\n",
    "        vept.y=[ry+vy]\n",
    "        vept.rotation=[np.arctan2(vx,vy)/np.pi*180] \n",
    "\n",
    "        ali.x=[rx,rx+ax]\n",
    "        ali.y=[ry,ry+ay]\n",
    "        aept.x=[rx+ax]\n",
    "        aept.y=[ry+ay]\n",
    "        aept.rotation=[np.arctan2(ax,ay)/np.pi*180] \n",
    "\n",
    "        \n",
    "# enableing hooks for the slider \n",
    "trule.observe(handle_tslider_change, names='value')\n",
    "# interaction definitions upon toggling the electric field\n",
    "def handle_Etog(change):\n",
    "        E_is_0=float(change.new)\n",
    "        v0_is_0=float(extra_buttons.children[1].value)\n",
    "        orbit_x,orbit_y=solution(Ex=E_is_0*endpt.x[0],Ey=E_is_0*endpt.y[0],\n",
    "                                 B=Brule.value,\n",
    "                                 v0x=v0_is_0*v0ept.x[0],\n",
    "                                 v0y=v0_is_0*v0ept.y[0])\n",
    "        orb.x=orbit_x\n",
    "        orb.y=orbit_y\n",
    "        rx,ry=orbit_x[trule.value],orbit_y[trule.value]\n",
    "        rt=t[trule.value]\n",
    "        vx,vy=sol_vt(rt,Ex=E_is_0*endpt.x[0],Ey=E_is_0*endpt.y[0],\n",
    "                                 B=Brule.value,\n",
    "                                 v0x=v0_is_0*v0ept.x[0],\n",
    "                                 v0y=v0_is_0*v0ept.y[0])\n",
    "        ax,ay=sol_at(rt,Ex=E_is_0*endpt.x[0],Ey=E_is_0*endpt.y[0],\n",
    "                                 B=Brule.value,\n",
    "                                 v0x=v0_is_0*v0ept.x[0],\n",
    "                                 v0y=v0_is_0*v0ept.y[0])\n",
    "        \n",
    "\n",
    "        posi.x=[rx]\n",
    "        posi.y=[ry]\n",
    "        \n",
    "        vli.x=[rx,rx+vx]\n",
    "        vli.y=[ry,ry+vy]\n",
    "        vept.x=[rx+vx]\n",
    "        vept.y=[ry+vy]\n",
    "        vept.rotation=[np.arctan2(vx,vy)/np.pi*180] \n",
    "\n",
    "        ali.x=[rx,rx+ax]\n",
    "        ali.y=[ry,ry+ay]\n",
    "        aept.x=[rx+ax]\n",
    "        aept.y=[ry+ay]\n",
    "        aept.rotation=[np.arctan2(ax,ay)/np.pi*180] \n",
    "\n",
    "        endpt.visible=change.new\n",
    "        endptp.visible=change.new\n",
    "        li.visible=change.new\n",
    "        titletext.visible=change.new\n",
    "        \n",
    "        if not(change.new):\n",
    "            extra_buttons.children[0].description='E tér nincs'\n",
    "            extra_buttons.children[0].button_style=''\n",
    "        else:\n",
    "            extra_buttons.children[0].description='E tér'\n",
    "            extra_buttons.children[0].button_style='info'\n",
    "# enableing hooks for the button\n",
    "extra_buttons.children[0].observe(handle_Etog,names='value')\n",
    "# interaction definitions upon toggling the initial velocity\n",
    "def handle_v0tog(change):\n",
    "        E_is_0=float(extra_buttons.children[0].value)\n",
    "        v0_is_0=float(change.new)\n",
    "        orbit_x,orbit_y=solution(Ex=E_is_0*endpt.x[0],Ey=E_is_0*endpt.y[0],\n",
    "                                 B=Brule.value,\n",
    "                                 v0x=v0_is_0*v0ept.x[0],\n",
    "                                 v0y=v0_is_0*v0ept.y[0])\n",
    "        orb.x=orbit_x\n",
    "        orb.y=orbit_y\n",
    "        rx,ry=orbit_x[trule.value],orbit_y[trule.value]\n",
    "        rt=t[trule.value]\n",
    "        vx,vy=sol_vt(rt,Ex=E_is_0*endpt.x[0],Ey=E_is_0*endpt.y[0],\n",
    "                                 B=Brule.value,\n",
    "                                 v0x=v0_is_0*v0ept.x[0],\n",
    "                                 v0y=v0_is_0*v0ept.y[0])\n",
    "        ax,ay=sol_at(rt,Ex=E_is_0*endpt.x[0],Ey=E_is_0*endpt.y[0],\n",
    "                                 B=Brule.value,\n",
    "                                 v0x=v0_is_0*v0ept.x[0],\n",
    "                                 v0y=v0_is_0*v0ept.y[0])\n",
    "        \n",
    "\n",
    "        posi.x=[rx]\n",
    "        posi.y=[ry]\n",
    "        \n",
    "        vli.x=[rx,rx+vx]\n",
    "        vli.y=[ry,ry+vy]\n",
    "        vept.x=[rx+vx]\n",
    "        vept.y=[ry+vy]\n",
    "        vept.rotation=[np.arctan2(vx,vy)/np.pi*180] \n",
    "\n",
    "        ali.x=[rx,rx+ax]\n",
    "        ali.y=[ry,ry+ay]\n",
    "        aept.x=[rx+ax]\n",
    "        aept.y=[ry+ay]\n",
    "        aept.rotation=[np.arctan2(ax,ay)/np.pi*180] \n",
    "\n",
    "        v0ept.visible=change.new\n",
    "        v0eptp.visible=change.new\n",
    "        v0li.visible=change.new\n",
    "        v0label.visible=change.new\n",
    "        if not(change.new):\n",
    "            extra_buttons.children[1].description='kezdő sebesség nincs'\n",
    "            extra_buttons.children[1].button_style=''\n",
    "        else:\n",
    "            extra_buttons.children[1].description='kezdő sebesség'\n",
    "            extra_buttons.children[1].button_style='info'        \n",
    "# enableing hooks for the button\n",
    "extra_buttons.children[1].observe(handle_v0tog,names='value')\n",
    "playbutton = ipw.Play(\n",
    "    value=0,\n",
    "    min=trule.min,\n",
    "    max=trule.max,\n",
    "    disabled=False\n",
    ")\n",
    "\n",
    "ipw.jslink((playbutton, 'value'), (trule, 'value'))"
   ]
  },
  {
   "cell_type": "code",
   "execution_count": 4,
   "metadata": {},
   "outputs": [
    {
     "data": {
      "application/vnd.jupyter.widget-view+json": {
       "model_id": "200ae78be41b48acb2e5ab20aefb9616",
       "version_major": 2,
       "version_minor": 0
      },
      "text/plain": [
       "A Jupyter Widget"
      ]
     },
     "metadata": {},
     "output_type": "display_data"
    }
   ],
   "source": [
    "ipw.HBox([orb_fig,ipw.VBox([Eter,Brule,ipw.HBox([playbutton,trule]),extra_buttons])])"
   ]
  },
  {
   "cell_type": "code",
   "execution_count": 5,
   "metadata": {},
   "outputs": [
    {
     "data": {
      "text/html": [
       "<script>\n",
       "code_show=true; \n",
       "function code_toggle() {\n",
       " if (code_show){\n",
       " $('div.input').hide();\n",
       " } else {\n",
       " $('div.input').show();\n",
       " }\n",
       " code_show = !code_show\n",
       " \n",
       "} \n",
       "//$( document ).ready(code_toggle);\n",
       "</script>\n",
       "<form action=\"javascript:code_toggle()\"><input type=\"submit\" value=\"Klikkelj ha látni szeretnéd a kódot\"></form>"
      ],
      "text/plain": [
       "<IPython.core.display.HTML object>"
      ]
     },
     "execution_count": 5,
     "metadata": {},
     "output_type": "execute_result"
    }
   ],
   "source": [
    "from IPython.display import HTML\n",
    "\n",
    "HTML('''<script>\n",
    "code_show=true; \n",
    "function code_toggle() {\n",
    " if (code_show){\n",
    " $('div.input').hide();\n",
    " } else {\n",
    " $('div.input').show();\n",
    " }\n",
    " code_show = !code_show\n",
    " \n",
    "} \n",
    "$( document ).ready(code_toggle);\n",
    "</script>\n",
    "<form action=\"javascript:code_toggle()\"><input type=\"submit\" value=\"Klikkelj ha látni szeretnéd a kódot\"></form>''')"
   ]
  }
 ],
 "metadata": {
  "extensions": {
   "jupyter_dashboards": {
    "activeView": "grid_default",
    "version": 1,
    "views": {
     "grid_default": {
      "cellMargin": 10,
      "defaultCellHeight": 20,
      "maxColumns": 12,
      "name": "grid",
      "type": "grid"
     },
     "report_default": {
      "name": "report",
      "type": "report"
     }
    }
   }
  },
  "kernelspec": {
   "display_name": " conda_python36",
   "language": "python",
   "name": "conda_python36"
  },
  "language_info": {
   "codemirror_mode": {
    "name": "ipython",
    "version": 3
   },
   "file_extension": ".py",
   "mimetype": "text/x-python",
   "name": "python",
   "nbconvert_exporter": "python",
   "pygments_lexer": "ipython3",
   "version": "3.6.2"
  },
  "widgets": {
   "application/vnd.jupyter.widget-state+json": {
    "state": {
     "03f45159458c4398990f6ea2fe1bdc2e": {
      "model_module": "bqplot",
      "model_module_version": "^0.2.3",
      "model_name": "LinearScaleModel",
      "state": {
       "_model_module_version": "^0.2.3",
       "_view_module_version": "^0.2.3",
       "max": 1,
       "min": -1,
       "stabilized": false
      }
     },
     "14788e6594cd44308d223aaf33a4b096": {
      "model_module": "bqplot",
      "model_module_version": "^0.2.3",
      "model_name": "LinesModel",
      "state": {
       "_model_module_version": "^0.2.3",
       "_view_module_version": "^0.2.3",
       "color": {
        "type": null,
        "values": null
       },
       "colors": [
        "DarkGreen"
       ],
       "display_legend": false,
       "fill_colors": [],
       "labels": [
        "C1"
       ],
       "scales": {
        "x": "IPY_MODEL_87f643ddce5c43118c07d678792ec475",
        "y": "IPY_MODEL_87f643ddce5c43118c07d678792ec475"
       },
       "selected": [],
       "x": {
        "type": "float",
        "values": [
         -5.235102918642717,
         -3.618828464825917
        ]
       },
       "y": {
        "type": "float",
        "values": [
         -5.02218259525863,
         -2.8031848097257464
        ]
       }
      }
     },
     "14cbb6b08f604d5db11fa22ba334e53d": {
      "model_module": "@jupyter-widgets/controls",
      "model_module_version": "1.0.0",
      "model_name": "FloatSliderModel",
      "state": {
       "description": "B tér",
       "layout": "IPY_MODEL_ac3184d2721a4dff9d735a02c920acdb",
       "max": 2,
       "min": -2,
       "step": 0.012,
       "style": "IPY_MODEL_77c4636ec441418f8b74b5c49cab2f54",
       "value": -0.776
      }
     },
     "205be6789f1b4f5a867a7901010eab6c": {
      "model_module": "bqplot",
      "model_module_version": "^0.2.3",
      "model_name": "ScatterModel",
      "state": {
       "_model_module": "bqplot",
       "_model_module_version": "^0.2.3",
       "_view_count": null,
       "_view_module": "bqplot",
       "_view_module_version": "^0.2.3",
       "apply_clip": true,
       "color": {
        "type": null,
        "values": null
       },
       "colors": [
        "DarkGreen"
       ],
       "display_legend": false,
       "enable_hover": true,
       "hovered_style": {},
       "interactions": {
        "hover": "tooltip"
       },
       "labels": [],
       "marker": "triangle-up",
       "names": {
        "type": null,
        "values": null
       },
       "opacity": {
        "type": null,
        "values": null
       },
       "preserve_domain": {},
       "rotation": {
        "type": "float",
        "values": [
         36.06886035229944
        ]
       },
       "scales": {
        "rotation": "IPY_MODEL_4e5d4a8d7bc54dc18d5336eb9588da7b",
        "x": "IPY_MODEL_87f643ddce5c43118c07d678792ec475",
        "y": "IPY_MODEL_87f643ddce5c43118c07d678792ec475"
       },
       "scales_metadata": {
        "color": {
         "dimension": "color"
        },
        "opacity": {
         "dimension": "opacity"
        },
        "size": {
         "dimension": "size"
        },
        "x": {
         "dimension": "x",
         "orientation": "horizontal"
        },
        "y": {
         "dimension": "y",
         "orientation": "vertical"
        }
       },
       "selected": [],
       "selected_style": {},
       "size": {
        "type": null,
        "values": null
       },
       "skew": {
        "type": null,
        "values": null
       },
       "tooltip": null,
       "tooltip_location": "mouse",
       "tooltip_style": {
        "opacity": 0.9
       },
       "unhovered_style": {},
       "unselected_style": {},
       "visible": true,
       "x": {
        "type": "float",
        "values": [
         -3.618828464825917
        ]
       },
       "y": {
        "type": "float",
        "values": [
         -2.8031848097257464
        ]
       }
      }
     },
     "214fd58498ae42f39f1aafd0e8f5a38d": {
      "model_module": "@jupyter-widgets/base",
      "model_module_version": "1.0.0",
      "model_name": "LayoutModel",
      "state": {
       "width": "50%"
      }
     },
     "281d867caa0c4877a6825421cecb4f52": {
      "model_module": "@jupyter-widgets/controls",
      "model_module_version": "1.0.0",
      "model_name": "ToggleButtonModel",
      "state": {
       "button_style": "info",
       "description": "kezdő sebesség",
       "layout": "IPY_MODEL_214fd58498ae42f39f1aafd0e8f5a38d",
       "style": "IPY_MODEL_52efa588825b4e8eb1ecadc89b9a2e79",
       "value": true
      }
     },
     "32c62fb50e6240318db0ea766db6e3fa": {
      "model_module": "bqplot",
      "model_module_version": "^0.2.3",
      "model_name": "LinearScaleModel",
      "state": {
       "_model_module_version": "^0.2.3",
       "_view_module_version": "^0.2.3",
       "allow_padding": false,
       "max": 1,
       "min": 0,
       "stabilized": false
      }
     },
     "3401cfb79f8840ffba200901921a2894": {
      "model_module": "@jupyter-widgets/controls",
      "model_module_version": "1.0.0",
      "model_name": "DescriptionStyleModel",
      "state": {
       "description_width": ""
      }
     },
     "3ce0590c10db4999bc6b27ca83eb53a1": {
      "model_module": "bqplot",
      "model_module_version": "^0.2.3",
      "model_name": "ScatterModel",
      "state": {
       "_model_module": "bqplot",
       "_model_module_version": "^0.2.3",
       "_view_count": null,
       "_view_module": "bqplot",
       "_view_module_version": "^0.2.3",
       "apply_clip": true,
       "color": {
        "type": null,
        "values": null
       },
       "colors": [
        "Cyan"
       ],
       "display_legend": false,
       "enable_hover": true,
       "hovered_style": {},
       "interactions": {
        "hover": "tooltip"
       },
       "labels": [],
       "marker": "triangle-up",
       "names": {
        "type": null,
        "values": null
       },
       "opacity": {
        "type": null,
        "values": null
       },
       "preserve_domain": {},
       "rotation": {
        "type": "float",
        "values": [
         9.296511646118834
        ]
       },
       "scales": {
        "rotation": "IPY_MODEL_b1e282d8f5ec416c9eb8c5d21e476856",
        "x": "IPY_MODEL_87f643ddce5c43118c07d678792ec475",
        "y": "IPY_MODEL_87f643ddce5c43118c07d678792ec475"
       },
       "scales_metadata": {
        "color": {
         "dimension": "color"
        },
        "opacity": {
         "dimension": "opacity"
        },
        "size": {
         "dimension": "size"
        },
        "x": {
         "dimension": "x",
         "orientation": "horizontal"
        },
        "y": {
         "dimension": "y",
         "orientation": "vertical"
        }
       },
       "selected": [],
       "selected_style": {},
       "size": {
        "type": null,
        "values": null
       },
       "skew": {
        "type": null,
        "values": null
       },
       "tooltip": null,
       "tooltip_location": "mouse",
       "tooltip_style": {
        "opacity": 0.9
       },
       "unhovered_style": {},
       "unselected_style": {},
       "visible": true,
       "x": {
        "type": "float",
        "values": [
         0.53125
        ]
       },
       "y": {
        "type": "float",
        "values": [
         3.2453893442622945
        ]
       }
      }
     },
     "3ebe5eeb0cb548db8aedab6a24328646": {
      "model_module": "bqplot",
      "model_module_version": "^0.2.3",
      "model_name": "LinearScaleModel",
      "state": {
       "_model_module_version": "^0.2.3",
       "_view_module_version": "^0.2.3",
       "allow_padding": false,
       "max": 1,
       "min": 0,
       "stabilized": false
      }
     },
     "45faa22f8d9d4087acfded1e5bcc936d": {
      "model_module": "@jupyter-widgets/base",
      "model_module_version": "1.0.0",
      "model_name": "LayoutModel",
      "state": {
       "height": "400px",
       "width": "400px"
      }
     },
     "4b8569e4e32f4223a950abc1b85e07f3": {
      "model_module": "bqplot",
      "model_module_version": "^0.2.3",
      "model_name": "LinearScaleModel",
      "state": {
       "_model_module_version": "^0.2.3",
       "_view_module_version": "^0.2.3",
       "max": 180,
       "min": 0,
       "stabilized": false
      }
     },
     "4d75cabeb0d444f58f190362694d189c": {
      "model_module": "bqplot",
      "model_module_version": "^0.2.3",
      "model_name": "LabelModel",
      "state": {
       "_model_module": "bqplot",
       "_model_module_version": "^0.2.3",
       "_view_count": null,
       "_view_module": "bqplot",
       "_view_module_version": "^0.2.3",
       "apply_clip": true,
       "color": {
        "type": null,
        "values": null
       },
       "colors": [
        "DarkCyan"
       ],
       "default_size": 16,
       "display_legend": false,
       "enable_hover": true,
       "hovered_style": {},
       "interactions": {
        "hover": "tooltip"
       },
       "labels": [],
       "opacity": {
        "type": null,
        "values": null
       },
       "preserve_domain": {},
       "rotation": {
        "type": null,
        "values": null
       },
       "scales": {
        "x": "IPY_MODEL_03f45159458c4398990f6ea2fe1bdc2e",
        "y": "IPY_MODEL_03f45159458c4398990f6ea2fe1bdc2e"
       },
       "scales_metadata": {
        "color": {
         "dimension": "color"
        },
        "opacity": {
         "dimension": "opacity"
        },
        "size": {
         "dimension": "size"
        },
        "x": {
         "dimension": "x",
         "orientation": "horizontal"
        },
        "y": {
         "dimension": "y",
         "orientation": "vertical"
        }
       },
       "selected": [],
       "selected_style": {},
       "size": {
        "type": null,
        "values": null
       },
       "text": {
        "type": "<U24",
        "values": [
         "E tér iránya és nagysága"
        ]
       },
       "tooltip": null,
       "tooltip_location": "mouse",
       "tooltip_style": {
        "opacity": 0.9
       },
       "unhovered_style": {},
       "unselected_style": {},
       "visible": true,
       "x": {
        "type": "float",
        "values": [
         -0.8
        ]
       },
       "y": {
        "type": "float",
        "values": [
         -0.8
        ]
       }
      }
     },
     "4e5d4a8d7bc54dc18d5336eb9588da7b": {
      "model_module": "bqplot",
      "model_module_version": "^0.2.3",
      "model_name": "LinearScaleModel",
      "state": {
       "_model_module_version": "^0.2.3",
       "_view_module_version": "^0.2.3",
       "max": 180,
       "min": 0,
       "stabilized": false
      }
     },
     "4f3e74924ee2426aa3b122f510082f9d": {
      "model_module": "bqplot",
      "model_module_version": "^0.2.3",
      "model_name": "LinearScaleModel",
      "state": {
       "_model_module_version": "^0.2.3",
       "_view_module_version": "^0.2.3",
       "max": 1,
       "min": 0,
       "stabilized": false
      }
     },
     "52efa588825b4e8eb1ecadc89b9a2e79": {
      "model_module": "@jupyter-widgets/controls",
      "model_module_version": "1.0.0",
      "model_name": "DescriptionStyleModel",
      "state": {
       "description_width": ""
      }
     },
     "675482c69a504617b2432cbf61829a81": {
      "model_module": "@jupyter-widgets/base",
      "model_module_version": "1.0.0",
      "model_name": "LayoutModel",
      "state": {}
     },
     "6e981ec089eb44eb806180dca7733b68": {
      "model_module": "bqplot",
      "model_module_version": "^0.2.3",
      "model_name": "LinesModel",
      "state": {
       "_model_module_version": "^0.2.3",
       "_view_module_version": "^0.2.3",
       "color": {
        "type": null,
        "values": null
       },
       "colors": [
        "Red"
       ],
       "display_legend": false,
       "fill_colors": [],
       "labels": [
        "C1"
       ],
       "scales": {
        "x": "IPY_MODEL_87f643ddce5c43118c07d678792ec475",
        "y": "IPY_MODEL_87f643ddce5c43118c07d678792ec475"
       },
       "selected": [],
       "x": {
        "type": "float",
        "values": [
         -5.235102918642717,
         -1.998819176412841
        ]
       },
       "y": {
        "type": "float",
        "values": [
         -5.02218259525863,
         -7.393914900196278
        ]
       }
      }
     },
     "6f0307f777f94dd68abbd72656163de5": {
      "model_module": "@jupyter-widgets/base",
      "model_module_version": "1.0.0",
      "model_name": "LayoutModel",
      "state": {}
     },
     "7219837abcea4495bccef6a566b9ff2d": {
      "model_module": "@jupyter-widgets/controls",
      "model_module_version": "1.0.0",
      "model_name": "ToggleButtonModel",
      "state": {
       "button_style": "info",
       "description": "E tér",
       "layout": "IPY_MODEL_dfc3b16b310f45e7822197bf65462480",
       "style": "IPY_MODEL_3401cfb79f8840ffba200901921a2894",
       "value": true
      }
     },
     "757f3b3f0cda4461be30f80c9050cfe1": {
      "model_module": "bqplot",
      "model_module_version": "^0.2.3",
      "model_name": "LinearScaleModel",
      "state": {
       "_model_module_version": "^0.2.3",
       "_view_module_version": "^0.2.3",
       "allow_padding": false,
       "max": 1,
       "min": 0,
       "stabilized": false
      }
     },
     "77c4636ec441418f8b74b5c49cab2f54": {
      "model_module": "@jupyter-widgets/controls",
      "model_module_version": "1.0.0",
      "model_name": "SliderStyleModel",
      "state": {
       "description_width": ""
      }
     },
     "7849fbbfb08948fc95853d2cc2ce41b5": {
      "model_module": "@jupyter-widgets/base",
      "model_module_version": "1.0.0",
      "model_name": "LayoutModel",
      "state": {}
     },
     "7f527e0e6bf84326a6915bcd10a01342": {
      "model_module": "bqplot",
      "model_module_version": "^0.2.3",
      "model_name": "ScatterModel",
      "state": {
       "_model_module": "bqplot",
       "_model_module_version": "^0.2.3",
       "_view_count": null,
       "_view_module": "bqplot",
       "_view_module_version": "^0.2.3",
       "apply_clip": true,
       "color": {
        "type": null,
        "values": null
       },
       "colors": [
        "Red"
       ],
       "display_legend": false,
       "enable_hover": true,
       "hovered_style": {},
       "interactions": {
        "hover": "tooltip"
       },
       "labels": [],
       "names": {
        "type": null,
        "values": null
       },
       "opacity": {
        "type": null,
        "values": null
       },
       "preserve_domain": {},
       "rotation": {
        "type": null,
        "values": null
       },
       "scales": {
        "x": "IPY_MODEL_87f643ddce5c43118c07d678792ec475",
        "y": "IPY_MODEL_87f643ddce5c43118c07d678792ec475"
       },
       "scales_metadata": {
        "color": {
         "dimension": "color"
        },
        "opacity": {
         "dimension": "opacity"
        },
        "size": {
         "dimension": "size"
        },
        "x": {
         "dimension": "x",
         "orientation": "horizontal"
        },
        "y": {
         "dimension": "y",
         "orientation": "vertical"
        }
       },
       "selected": [],
       "selected_style": {},
       "size": {
        "type": null,
        "values": null
       },
       "skew": {
        "type": null,
        "values": null
       },
       "tooltip": null,
       "tooltip_location": "mouse",
       "tooltip_style": {
        "opacity": 0.9
       },
       "unhovered_style": {},
       "unselected_style": {},
       "visible": true,
       "x": {
        "type": "float",
        "values": [
         -5.235102918642717
        ]
       },
       "y": {
        "type": "float",
        "values": [
         -5.02218259525863
        ]
       }
      }
     },
     "87f643ddce5c43118c07d678792ec475": {
      "model_module": "bqplot",
      "model_module_version": "^0.2.3",
      "model_name": "LinearScaleModel",
      "state": {
       "_model_module_version": "^0.2.3",
       "_view_module_version": "^0.2.3",
       "max": 5,
       "min": -5,
       "stabilized": false
      }
     },
     "8ef36e85b4ad4a9abc51f738b502a221": {
      "model_module": "bqplot",
      "model_module_version": "^0.2.3",
      "model_name": "ScatterModel",
      "state": {
       "_model_module": "bqplot",
       "_model_module_version": "^0.2.3",
       "_view_count": null,
       "_view_module": "bqplot",
       "_view_module_version": "^0.2.3",
       "apply_clip": true,
       "color": {
        "type": null,
        "values": null
       },
       "colors": [
        "DarkCyan"
       ],
       "display_legend": false,
       "enable_hover": true,
       "enable_move": true,
       "hovered_style": {},
       "interactions": {
        "hover": "tooltip"
       },
       "labels": [],
       "names": {
        "type": null,
        "values": null
       },
       "opacity": {
        "type": "float",
        "values": [
         0
        ]
       },
       "preserve_domain": {},
       "rotation": {
        "type": null,
        "values": null
       },
       "scales": {
        "opacity": "IPY_MODEL_b3e28ca5894b446f93830521c413d237",
        "size": "IPY_MODEL_4f3e74924ee2426aa3b122f510082f9d",
        "x": "IPY_MODEL_03f45159458c4398990f6ea2fe1bdc2e",
        "y": "IPY_MODEL_03f45159458c4398990f6ea2fe1bdc2e"
       },
       "scales_metadata": {
        "color": {
         "dimension": "color"
        },
        "opacity": {
         "dimension": "opacity"
        },
        "size": {
         "dimension": "size"
        },
        "x": {
         "dimension": "x",
         "orientation": "horizontal"
        },
        "y": {
         "dimension": "y",
         "orientation": "vertical"
        }
       },
       "selected": [],
       "selected_style": {},
       "size": {
        "type": "float",
        "values": [
         0.1
        ]
       },
       "skew": {
        "type": null,
        "values": null
       },
       "tooltip": null,
       "tooltip_location": "mouse",
       "tooltip_style": {
        "opacity": 0.9
       },
       "unhovered_style": {},
       "unselected_style": {},
       "visible": true,
       "x": {
        "type": "float",
        "values": [
         -0.22418981481481476
        ]
       },
       "y": {
        "type": "float",
        "values": [
         -0.2923583984375
        ]
       }
      }
     },
     "90846e943ada4fd8aee411ba4f79fd4f": {
      "model_module": "bqplot",
      "model_module_version": "^0.2.3",
      "model_name": "FigureModel",
      "state": {
       "_dom_classes": [],
       "_model_module_version": "^0.2.3",
       "_view_module_version": "^0.2.3",
       "layout": "IPY_MODEL_b8993296a85b4eeab603d9dbcfdc1437",
       "marks": [
        "IPY_MODEL_e6892f3d1b684de59db4ae44e3bbb311",
        "IPY_MODEL_7f527e0e6bf84326a6915bcd10a01342",
        "IPY_MODEL_6e981ec089eb44eb806180dca7733b68",
        "IPY_MODEL_d4bd835294654779afdbbaeb1b6a94ea",
        "IPY_MODEL_14788e6594cd44308d223aaf33a4b096",
        "IPY_MODEL_205be6789f1b4f5a867a7901010eab6c",
        "IPY_MODEL_c940feee928145c4978438d603b7618b",
        "IPY_MODEL_3ce0590c10db4999bc6b27ca83eb53a1",
        "IPY_MODEL_b2a8dae578744e49b368d72b978075e7",
        "IPY_MODEL_a53a5c8d5b8042e68b52eb3978d66836",
        "IPY_MODEL_b6847197ebef49c4a06970762745f0fd",
        "IPY_MODEL_c3e55beec62044b48bf223a2137b1e43"
       ],
       "max_aspect_ratio": 6,
       "scale_x": "IPY_MODEL_32c62fb50e6240318db0ea766db6e3fa",
       "scale_y": "IPY_MODEL_e35c93fba7e347a6b95c0edafa4deb1c"
      }
     },
     "90b8f842f3c54f60b8702a02ff57839b": {
      "model_module": "@jupyter-widgets/controls",
      "model_module_version": "1.0.0",
      "model_name": "LinkModel",
      "state": {
       "source": [
        "IPY_MODEL_af3067ac3a2942419695d8c551080903",
        "value"
       ],
       "target": [
        "IPY_MODEL_f4ec1066d6cd4a938bcd3eb120423a21",
        "value"
       ]
      }
     },
     "9da13f57b4b144e8be4a3b1fbf861cb1": {
      "model_module": "bqplot",
      "model_module_version": "^0.2.3",
      "model_name": "ScatterModel",
      "state": {
       "_model_module": "bqplot",
       "_model_module_version": "^0.2.3",
       "_view_count": null,
       "_view_module": "bqplot",
       "_view_module_version": "^0.2.3",
       "apply_clip": true,
       "color": {
        "type": null,
        "values": null
       },
       "colors": [
        "DarkCyan"
       ],
       "display_legend": false,
       "enable_hover": true,
       "hovered_style": {},
       "interactions": {
        "hover": "tooltip"
       },
       "labels": [],
       "marker": "triangle-up",
       "names": {
        "type": null,
        "values": null
       },
       "opacity": {
        "type": null,
        "values": null
       },
       "preserve_domain": {},
       "rotation": {
        "type": "float",
        "values": [
         -142.5178499110462
        ]
       },
       "scales": {
        "rotation": "IPY_MODEL_d616756a12124a10bdefd23e4852637f",
        "x": "IPY_MODEL_03f45159458c4398990f6ea2fe1bdc2e",
        "y": "IPY_MODEL_03f45159458c4398990f6ea2fe1bdc2e"
       },
       "scales_metadata": {
        "color": {
         "dimension": "color"
        },
        "opacity": {
         "dimension": "opacity"
        },
        "size": {
         "dimension": "size"
        },
        "x": {
         "dimension": "x",
         "orientation": "horizontal"
        },
        "y": {
         "dimension": "y",
         "orientation": "vertical"
        }
       },
       "selected": [],
       "selected_style": {},
       "size": {
        "type": null,
        "values": null
       },
       "skew": {
        "type": null,
        "values": null
       },
       "tooltip": null,
       "tooltip_location": "mouse",
       "tooltip_style": {
        "opacity": 0.9
       },
       "unhovered_style": {},
       "unselected_style": {},
       "visible": true,
       "x": {
        "type": "float",
        "values": [
         -0.22418981481481476
        ]
       },
       "y": {
        "type": "float",
        "values": [
         -0.2923583984375
        ]
       }
      }
     },
     "a30293388e8d4703a1409fd7b53c4372": {
      "model_module": "@jupyter-widgets/controls",
      "model_module_version": "1.0.0",
      "model_name": "HBoxModel",
      "state": {
       "children": [
        "IPY_MODEL_7219837abcea4495bccef6a566b9ff2d",
        "IPY_MODEL_281d867caa0c4877a6825421cecb4f52"
       ],
       "layout": "IPY_MODEL_675482c69a504617b2432cbf61829a81"
      }
     },
     "a4800edc71894d5db7f8da6eca966706": {
      "model_module": "@jupyter-widgets/controls",
      "model_module_version": "1.0.0",
      "model_name": "VBoxModel",
      "state": {
       "children": [
        "IPY_MODEL_f1256a718ddb49bdb0f41d19302f1d3d",
        "IPY_MODEL_14cbb6b08f604d5db11fa22ba334e53d",
        "IPY_MODEL_cb86a50342d94211840e0bfd807935f4",
        "IPY_MODEL_a30293388e8d4703a1409fd7b53c4372"
       ],
       "layout": "IPY_MODEL_6f0307f777f94dd68abbd72656163de5"
      }
     },
     "a53a5c8d5b8042e68b52eb3978d66836": {
      "model_module": "bqplot",
      "model_module_version": "^0.2.3",
      "model_name": "LabelModel",
      "state": {
       "_model_module": "bqplot",
       "_model_module_version": "^0.2.3",
       "_view_count": null,
       "_view_module": "bqplot",
       "_view_module_version": "^0.2.3",
       "apply_clip": true,
       "color": {
        "type": null,
        "values": null
       },
       "colors": [
        "Cyan"
       ],
       "default_size": 16,
       "display_legend": false,
       "enable_hover": true,
       "hovered_style": {},
       "interactions": {
        "hover": "tooltip"
       },
       "labels": [],
       "opacity": {
        "type": null,
        "values": null
       },
       "preserve_domain": {},
       "rotation": {
        "type": null,
        "values": null
       },
       "scales": {
        "x": "IPY_MODEL_87f643ddce5c43118c07d678792ec475",
        "y": "IPY_MODEL_87f643ddce5c43118c07d678792ec475"
       },
       "scales_metadata": {
        "color": {
         "dimension": "color"
        },
        "opacity": {
         "dimension": "opacity"
        },
        "size": {
         "dimension": "size"
        },
        "x": {
         "dimension": "x",
         "orientation": "horizontal"
        },
        "y": {
         "dimension": "y",
         "orientation": "vertical"
        }
       },
       "selected": [],
       "selected_style": {},
       "size": {
        "type": null,
        "values": null
       },
       "text": {
        "type": "<U14",
        "values": [
         "kezdő sebesség"
        ]
       },
       "tooltip": null,
       "tooltip_location": "mouse",
       "tooltip_style": {
        "opacity": 0.9
       },
       "unhovered_style": {},
       "unselected_style": {},
       "visible": true,
       "x": {
        "type": "float",
        "values": [
         -4.5
        ]
       },
       "y": {
        "type": "float",
        "values": [
         -4
        ]
       }
      }
     },
     "ac3184d2721a4dff9d735a02c920acdb": {
      "model_module": "@jupyter-widgets/base",
      "model_module_version": "1.0.0",
      "model_name": "LayoutModel",
      "state": {}
     },
     "af3067ac3a2942419695d8c551080903": {
      "model_module": "@jupyter-widgets/controls",
      "model_module_version": "1.0.0",
      "model_name": "PlayModel",
      "state": {
       "layout": "IPY_MODEL_7849fbbfb08948fc95853d2cc2ce41b5",
       "max": 299,
       "style": "IPY_MODEL_f21d17d1ecf042d397a15413d2e0f8f3",
       "value": 106
      }
     },
     "af9477c457f24bd0b589541446b4983c": {
      "model_module": "@jupyter-widgets/controls",
      "model_module_version": "1.0.0",
      "model_name": "SliderStyleModel",
      "state": {
       "description_width": ""
      }
     },
     "b1e282d8f5ec416c9eb8c5d21e476856": {
      "model_module": "bqplot",
      "model_module_version": "^0.2.3",
      "model_name": "LinearScaleModel",
      "state": {
       "_model_module_version": "^0.2.3",
       "_view_module_version": "^0.2.3",
       "max": 180,
       "min": 0,
       "stabilized": false
      }
     },
     "b2a8dae578744e49b368d72b978075e7": {
      "model_module": "bqplot",
      "model_module_version": "^0.2.3",
      "model_name": "ScatterModel",
      "state": {
       "_model_module": "bqplot",
       "_model_module_version": "^0.2.3",
       "_view_count": null,
       "_view_module": "bqplot",
       "_view_module_version": "^0.2.3",
       "apply_clip": true,
       "color": {
        "type": null,
        "values": null
       },
       "colors": [
        "Cyan"
       ],
       "display_legend": false,
       "enable_hover": true,
       "enable_move": true,
       "hovered_style": {},
       "interactions": {
        "hover": "tooltip"
       },
       "labels": [],
       "names": {
        "type": null,
        "values": null
       },
       "opacity": {
        "type": "float",
        "values": [
         0
        ]
       },
       "preserve_domain": {},
       "rotation": {
        "type": "float",
        "values": [
         0
        ]
       },
       "scales": {
        "opacity": "IPY_MODEL_fb567be50449471899660deea1affcbf",
        "size": "IPY_MODEL_ba8b9a4e6fe04a979fbdf343262aaf6f",
        "x": "IPY_MODEL_87f643ddce5c43118c07d678792ec475",
        "y": "IPY_MODEL_87f643ddce5c43118c07d678792ec475"
       },
       "scales_metadata": {
        "color": {
         "dimension": "color"
        },
        "opacity": {
         "dimension": "opacity"
        },
        "size": {
         "dimension": "size"
        },
        "x": {
         "dimension": "x",
         "orientation": "horizontal"
        },
        "y": {
         "dimension": "y",
         "orientation": "vertical"
        }
       },
       "selected": [],
       "selected_style": {},
       "size": {
        "type": "float",
        "values": [
         0.1
        ]
       },
       "skew": {
        "type": null,
        "values": null
       },
       "tooltip": null,
       "tooltip_location": "mouse",
       "tooltip_style": {
        "opacity": 0.9
       },
       "unhovered_style": {},
       "unselected_style": {},
       "visible": true,
       "x": {
        "type": "float",
        "values": [
         0.53125
        ]
       },
       "y": {
        "type": "float",
        "values": [
         3.2453893442622945
        ]
       }
      }
     },
     "b3e28ca5894b446f93830521c413d237": {
      "model_module": "bqplot",
      "model_module_version": "^0.2.3",
      "model_name": "LinearScaleModel",
      "state": {
       "_model_module_version": "^0.2.3",
       "_view_module_version": "^0.2.3",
       "max": 1,
       "min": 0,
       "stabilized": false
      }
     },
     "b6847197ebef49c4a06970762745f0fd": {
      "model_module": "bqplot",
      "model_module_version": "^0.2.3",
      "model_name": "LabelModel",
      "state": {
       "_model_module": "bqplot",
       "_model_module_version": "^0.2.3",
       "_view_count": null,
       "_view_module": "bqplot",
       "_view_module_version": "^0.2.3",
       "apply_clip": true,
       "color": {
        "type": null,
        "values": null
       },
       "colors": [
        "Red"
       ],
       "default_size": 16,
       "display_legend": false,
       "enable_hover": true,
       "hovered_style": {},
       "interactions": {
        "hover": "tooltip"
       },
       "labels": [],
       "opacity": {
        "type": null,
        "values": null
       },
       "preserve_domain": {},
       "rotation": {
        "type": null,
        "values": null
       },
       "scales": {
        "x": "IPY_MODEL_87f643ddce5c43118c07d678792ec475",
        "y": "IPY_MODEL_87f643ddce5c43118c07d678792ec475"
       },
       "scales_metadata": {
        "color": {
         "dimension": "color"
        },
        "opacity": {
         "dimension": "opacity"
        },
        "size": {
         "dimension": "size"
        },
        "x": {
         "dimension": "x",
         "orientation": "horizontal"
        },
        "y": {
         "dimension": "y",
         "orientation": "vertical"
        }
       },
       "selected": [],
       "selected_style": {},
       "size": {
        "type": null,
        "values": null
       },
       "text": {
        "type": "<U8",
        "values": [
         "sebesség"
        ]
       },
       "tooltip": null,
       "tooltip_location": "mouse",
       "tooltip_style": {
        "opacity": 0.9
       },
       "unhovered_style": {},
       "unselected_style": {},
       "visible": true,
       "x": {
        "type": "float",
        "values": [
         -4.5
        ]
       },
       "y": {
        "type": "float",
        "values": [
         -4.3
        ]
       }
      }
     },
     "b8993296a85b4eeab603d9dbcfdc1437": {
      "model_module": "@jupyter-widgets/base",
      "model_module_version": "1.0.0",
      "model_name": "LayoutModel",
      "state": {
       "height": "600px",
       "width": "600px"
      }
     },
     "ba8b9a4e6fe04a979fbdf343262aaf6f": {
      "model_module": "bqplot",
      "model_module_version": "^0.2.3",
      "model_name": "LinearScaleModel",
      "state": {
       "_model_module_version": "^0.2.3",
       "_view_module_version": "^0.2.3",
       "max": 1,
       "min": 0,
       "stabilized": false
      }
     },
     "c02e738eb6c342548e408c2e30657239": {
      "model_module": "@jupyter-widgets/controls",
      "model_module_version": "1.0.0",
      "model_name": "HBoxModel",
      "state": {
       "children": [
        "IPY_MODEL_90846e943ada4fd8aee411ba4f79fd4f",
        "IPY_MODEL_a4800edc71894d5db7f8da6eca966706"
       ],
       "layout": "IPY_MODEL_f67072038bc84e8189b8833e4c37d9e2"
      }
     },
     "c3e55beec62044b48bf223a2137b1e43": {
      "model_module": "bqplot",
      "model_module_version": "^0.2.3",
      "model_name": "LabelModel",
      "state": {
       "_model_module": "bqplot",
       "_model_module_version": "^0.2.3",
       "_view_count": null,
       "_view_module": "bqplot",
       "_view_module_version": "^0.2.3",
       "apply_clip": true,
       "color": {
        "type": null,
        "values": null
       },
       "colors": [
        "DarkGreen"
       ],
       "default_size": 16,
       "display_legend": false,
       "enable_hover": true,
       "hovered_style": {},
       "interactions": {
        "hover": "tooltip"
       },
       "labels": [],
       "opacity": {
        "type": null,
        "values": null
       },
       "preserve_domain": {},
       "rotation": {
        "type": null,
        "values": null
       },
       "scales": {
        "x": "IPY_MODEL_87f643ddce5c43118c07d678792ec475",
        "y": "IPY_MODEL_87f643ddce5c43118c07d678792ec475"
       },
       "scales_metadata": {
        "color": {
         "dimension": "color"
        },
        "opacity": {
         "dimension": "opacity"
        },
        "size": {
         "dimension": "size"
        },
        "x": {
         "dimension": "x",
         "orientation": "horizontal"
        },
        "y": {
         "dimension": "y",
         "orientation": "vertical"
        }
       },
       "selected": [],
       "selected_style": {},
       "size": {
        "type": null,
        "values": null
       },
       "text": {
        "type": "<U9",
        "values": [
         "gyorsulás"
        ]
       },
       "tooltip": null,
       "tooltip_location": "mouse",
       "tooltip_style": {
        "opacity": 0.9
       },
       "unhovered_style": {},
       "unselected_style": {},
       "visible": true,
       "x": {
        "type": "float",
        "values": [
         -4.5
        ]
       },
       "y": {
        "type": "float",
        "values": [
         -4.6
        ]
       }
      }
     },
     "c940feee928145c4978438d603b7618b": {
      "model_module": "bqplot",
      "model_module_version": "^0.2.3",
      "model_name": "LinesModel",
      "state": {
       "_model_module_version": "^0.2.3",
       "_view_module_version": "^0.2.3",
       "color": {
        "type": null,
        "values": null
       },
       "colors": [
        "Cyan"
       ],
       "display_legend": false,
       "fill_colors": [],
       "labels": [
        "C1"
       ],
       "scales": {
        "x": "IPY_MODEL_87f643ddce5c43118c07d678792ec475",
        "y": "IPY_MODEL_87f643ddce5c43118c07d678792ec475"
       },
       "selected": [],
       "x": {
        "type": "float",
        "values": [
         0,
         0.53125
        ]
       },
       "y": {
        "type": "float",
        "values": [
         0,
         3.2453893442622945
        ]
       }
      }
     },
     "c97e56a6239841f8b1033c85d7d5626c": {
      "model_module": "@jupyter-widgets/base",
      "model_module_version": "1.0.0",
      "model_name": "LayoutModel",
      "state": {}
     },
     "cb86a50342d94211840e0bfd807935f4": {
      "model_module": "@jupyter-widgets/controls",
      "model_module_version": "1.0.0",
      "model_name": "HBoxModel",
      "state": {
       "children": [
        "IPY_MODEL_af3067ac3a2942419695d8c551080903",
        "IPY_MODEL_f4ec1066d6cd4a938bcd3eb120423a21"
       ],
       "layout": "IPY_MODEL_c97e56a6239841f8b1033c85d7d5626c"
      }
     },
     "d33ebd94021e49c5806d10e8676c3b56": {
      "model_module": "@jupyter-widgets/base",
      "model_module_version": "1.0.0",
      "model_name": "LayoutModel",
      "state": {
       "width": "50%"
      }
     },
     "d4bd835294654779afdbbaeb1b6a94ea": {
      "model_module": "bqplot",
      "model_module_version": "^0.2.3",
      "model_name": "ScatterModel",
      "state": {
       "_model_module": "bqplot",
       "_model_module_version": "^0.2.3",
       "_view_count": null,
       "_view_module": "bqplot",
       "_view_module_version": "^0.2.3",
       "apply_clip": true,
       "color": {
        "type": null,
        "values": null
       },
       "colors": [
        "Red"
       ],
       "display_legend": false,
       "enable_hover": true,
       "hovered_style": {},
       "interactions": {
        "hover": "tooltip"
       },
       "labels": [],
       "marker": "triangle-up",
       "names": {
        "type": null,
        "values": null
       },
       "opacity": {
        "type": null,
        "values": null
       },
       "preserve_domain": {},
       "rotation": {
        "type": "float",
        "values": [
         126.23607584376738
        ]
       },
       "scales": {
        "rotation": "IPY_MODEL_4b8569e4e32f4223a950abc1b85e07f3",
        "x": "IPY_MODEL_87f643ddce5c43118c07d678792ec475",
        "y": "IPY_MODEL_87f643ddce5c43118c07d678792ec475"
       },
       "scales_metadata": {
        "color": {
         "dimension": "color"
        },
        "opacity": {
         "dimension": "opacity"
        },
        "size": {
         "dimension": "size"
        },
        "x": {
         "dimension": "x",
         "orientation": "horizontal"
        },
        "y": {
         "dimension": "y",
         "orientation": "vertical"
        }
       },
       "selected": [],
       "selected_style": {},
       "size": {
        "type": null,
        "values": null
       },
       "skew": {
        "type": null,
        "values": null
       },
       "tooltip": null,
       "tooltip_location": "mouse",
       "tooltip_style": {
        "opacity": 0.9
       },
       "unhovered_style": {},
       "unselected_style": {},
       "visible": true,
       "x": {
        "type": "float",
        "values": [
         -1.998819176412841
        ]
       },
       "y": {
        "type": "float",
        "values": [
         -7.393914900196278
        ]
       }
      }
     },
     "d616756a12124a10bdefd23e4852637f": {
      "model_module": "bqplot",
      "model_module_version": "^0.2.3",
      "model_name": "LinearScaleModel",
      "state": {
       "_model_module_version": "^0.2.3",
       "_view_module_version": "^0.2.3",
       "max": 180,
       "min": 0,
       "stabilized": false
      }
     },
     "d83719cc089c49ea926e34f98c7acc28": {
      "model_module": "bqplot",
      "model_module_version": "^0.2.3",
      "model_name": "LinesModel",
      "state": {
       "_model_module_version": "^0.2.3",
       "_view_module_version": "^0.2.3",
       "color": {
        "type": null,
        "values": null
       },
       "colors": [
        "DarkCyan"
       ],
       "display_legend": false,
       "fill_colors": [],
       "labels": [
        "C1"
       ],
       "scales": {
        "x": "IPY_MODEL_03f45159458c4398990f6ea2fe1bdc2e",
        "y": "IPY_MODEL_03f45159458c4398990f6ea2fe1bdc2e"
       },
       "selected": [],
       "x": {
        "type": "float",
        "values": [
         0,
         -0.22418981481481476
        ]
       },
       "y": {
        "type": "float",
        "values": [
         0,
         -0.2923583984375
        ]
       }
      }
     },
     "dfc3b16b310f45e7822197bf65462480": {
      "model_module": "@jupyter-widgets/base",
      "model_module_version": "1.0.0",
      "model_name": "LayoutModel",
      "state": {}
     },
     "e35c93fba7e347a6b95c0edafa4deb1c": {
      "model_module": "bqplot",
      "model_module_version": "^0.2.3",
      "model_name": "LinearScaleModel",
      "state": {
       "_model_module_version": "^0.2.3",
       "_view_module_version": "^0.2.3",
       "allow_padding": false,
       "max": 1,
       "min": 0,
       "stabilized": false
      }
     },
     "e6892f3d1b684de59db4ae44e3bbb311": {
      "model_module": "bqplot",
      "model_module_version": "^0.2.3",
      "model_name": "LinesModel",
      "state": {
       "_model_module_version": "^0.2.3",
       "_view_module_version": "^0.2.3",
       "color": {
        "type": null,
        "values": null
       },
       "display_legend": false,
       "fill_colors": [],
       "labels": [
        "C1"
       ],
       "scales": {
        "x": "IPY_MODEL_87f643ddce5c43118c07d678792ec475",
        "y": "IPY_MODEL_87f643ddce5c43118c07d678792ec475"
       },
       "selected": [],
       "x": {
        "type": "float",
        "values": [
         0,
         0.023198581211349975,
         0.03948905149083821,
         0.04887536595014782,
         0.051371941811854914,
         0.0470036365625008,
         0.03580571028516777,
         0.017823772228628132,
         -0.006886288305956667,
         -0.038258386656066345,
         -0.07621634293824431,
         -0.12067399748615965,
         -0.17153534141139276,
         -0.22869466208908718,
         -0.2920367033480237,
         -0.3614368401223584,
         -0.4367612673003863,
         -0.5178672024841442,
         -0.6046031023526176,
         -0.6968088923006808,
         -0.7943162090057924,
         -0.89694865555488,
         -1.0045220687448042,
         -1.1168447981513587,
         -1.2337179965439176,
         -1.354935921205662,
         -1.4802862457027754,
         -1.6095503816301786,
         -1.7425038098462575,
         -1.8789164206946305,
         -2.018552862697435,
         -2.161172899191727,
         -2.3065317723685634,
         -2.454380574163156,
         -2.6044666234340323,
         -2.7565338488596938,
         -2.910323176972515,
         -3.0655729247419163,
         -3.2220191961118863,
         -3.379396281891991,
         -3.537437062395879,
         -3.695873412217173,
         -3.8544366065293474,
         -4.012857728293952,
         -4.170868075760072,
         -4.328199569637585,
         -4.484585159327162,
         -4.639759227591453,
         -4.793457993054279,
         -4.945419909917832,
         -5.0953860642922715,
         -5.24310056653706,
         -5.388310939019578,
         -5.530768498703372,
         -5.6702287339863435,
         -5.806451675217809,
         -5.939202258332967,
         -6.068250681053776,
         -6.193372751116451,
         -6.314350225997909,
         -6.430971143626374,
         -6.543030143574966,
         -6.650328778251611,
         -6.752675813613675,
         -6.849887518951666,
         -6.941787945302844,
         -7.028209192072894,
         -7.108991661461635,
         -7.183984300307184,
         -7.253044828982145,
         -7.316039956994943,
         -7.372845584969616,
         -7.423346992697977,
         -7.467439012979186,
         -7.505026190983331,
         -7.536022928897484,
         -7.5603536156350994,
         -7.577952741412156,
         -7.588764997016445,
         -7.59274535761957,
         -7.58985915100466,
         -7.580082110106401,
         -7.563400409783773,
         -7.539810687769777,
         -7.509320049766407,
         -7.471946058677101,
         -7.427716707993093,
         -7.376670379373848,
         -7.318855784486011,
         -7.254331891188883,
         -7.183167834178349,
         -7.1054428102246305,
         -7.021245958162627,
         -6.930676223816705,
         -6.833842210064579,
         -6.730862012267556,
         -6.6218630393164615,
         -6.506981820564459,
         -6.386363798939289,
         -6.2601631105484845,
         -6.12854235111149,
         -5.991672329572615,
         -5.849731809268234,
         -5.702907237040376,
         -5.551392460707278,
         -5.3953884353189085,
         -5.235102918642717,
         -5.070750156340955,
         -4.902550557316658,
         -4.730730359720257,
         -4.555521288122952,
         -4.377160202376254,
         -4.195888738689936,
         -4.011952943472126,
         -3.825602900486529,
         -3.637092351891664,
         -3.4466783137364136,
         -3.2546206864945613,
         -3.0611818612284085,
         -2.866626321978356,
         -2.6712202449808937,
         -2.475231095322379,
         -2.2789272216397403,
         -2.0825774494823133,
         -1.886450673951028,
         -1.6908154522321457,
         -1.4959395966430997,
         -1.30208976880703,
         -1.10953107557104,
         -0.9185266672804029,
         -0.7293373390175932,
         -0.5422211354102848,
         -0.35743295960721033,
         -0.17522418701444264,
         0.004157715622634228,
         0.18046956521439617,
         0.35347283083092784,
         0.5229339951563363,
         0.6886249083457674,
         0.8503231337489323,
         1.0078122849762137,
         1.1608823537965873,
         1.3093300283704923,
         1.4529590013354592,
         1.5915802672775707,
         1.7250124091380201,
         1.853081873120806,
         1.975623231684906,
         2.092479434222467,
         2.2035020450431313,
         2.308551468303887,
         2.4074971595435612,
         2.5002178235014485,
         2.5866015979203043,
         2.666546223055171,
         2.739959196631163,
         2.8067579140154493,
         2.866869793390949,
         2.9202323857421275,
         2.966793469486196,
         3.0065111296063103,
         3.0393538211668805,
         3.065300417114724,
         3.08434024029363,
         3.096473079623839,
         3.1017091904218903,
         3.1000692788603876,
         3.091584470591201,
         3.076296263579665,
         3.054256465221256,
         3.025527113836008,
         2.9901803846596717,
         2.948298480474018,
         2.8999735070420707,
         2.8453073335369927,
         2.7844114381761393,
         2.7174067392941725,
         2.644423412111245,
         2.56560069147391,
         2.4810866608676263,
         2.391038028020639,
         2.2956198874392286,
         2.1950054702341806,
         2.0893758816175776,
         1.9789198264676637,
         1.8638333233777198,
         1.744319407622133,
         1.6205878234899058,
         1.4928547064517335,
         1.3613422556422954,
         1.2262783971540658,
         1.0878964386528764,
         0.9464347158385662,
         0.8021362312864859,
         0.6552482862171392,
         0.5060221057518999,
         0.3547124582227297,
         0.2015772691127382,
         0.04687723021259105,
         -0.10912459541493069,
         -0.2661631720637119,
         -0.42397189300223603,
         -0.5822829844721644,
         -0.7408279114553733,
         -0.8993377845945396,
         -1.05754376765067,
         -1.2151774848801185,
         -1.371971427713845,
         -1.527659360122584,
         -1.681976722053681,
         -1.8346610303282835,
         -1.9854522763913538,
         -2.1340933203118215,
         -2.2803302804357597,
         -2.4239129181022507,
         -2.564595016838842,
         -2.702134755462044,
         -2.836295074517517,
         -2.9668440355046166,
         -3.093555172340973,
         -3.2162078345345675,
         -3.3345875215431846,
         -3.4484862078146623,
         -3.5577026580153253,
         -3.662042731969025,
         -3.7613196788445755,
         -3.855354420145866,
         -3.943975821075848,
         -4.02702094986312,
         -4.10433532465818,
         -4.175773147625241,
         -4.241197525874819,
         -4.300480678902367,
         -4.353504132218571,
         -4.400158896877938,
         -4.440345634633582,
         -4.473974808467977,
         -4.500966818271553,
         -4.52125212146356,
         -4.534771338372379,
         -4.5414753422156515,
         -4.541325333543812,
         -4.534292899034267,
         -4.5203600545471145,
         -4.499519272377127,
         -4.471773492660764,
         -4.43713611892087,
         -4.395630997755857,
         -4.347292382704098,
         -4.292164882338332,
         -4.230303392668736,
         -4.161773013957044,
         -4.086648952067838,
         -4.0050164045064385,
         -3.9169704313161358,
         -3.822615811030327,
         -3.7220668818979306,
         -3.615447368622582,
         -3.5028901948782494,
         -3.384537281885293,
         -3.2605393333522112,
         -3.1310556071090385,
         -2.9962536737782894,
         -2.8563091628493087,
         -2.7114054965407117,
         -2.561733611854213,
         -2.4074916712410594,
         -2.2488847623194674,
         -2.086124587098146,
         -1.919429141176738,
         -1.7490223834094172,
         -1.5751338965321349,
         -1.3979985392677925,
         -1.217856090436543,
         -1.0349508856104714,
         -0.8495314468633186,
         -0.6618501061761464,
         -0.4721626230698659,
         -0.2807277970437472,
         -0.08780707540744359,
         0.10633584289935971,
         0.3014354068992491,
         0.49722461597580914,
         0.6934354244691425,
         0.8897991478548697,
         1.086046869891283,
         1.2819098501176107,
         1.4771199310859142,
         1.671409944709552,
         1.86451411711236,
         2.0561684713652353,
         2.246111227499663,
         2.4340831991921412,
         2.6198281865183657,
         2.8030933641819944,
         2.9836296646297757,
         3.1611921554723557,
         3.335540410639009,
         3.5064388747037207,
         3.6736572198306403
        ]
       },
       "y": {
        "type": "float",
        "values": [
         0,
         0.16291824216396028,
         0.32586934513494803,
         0.48858442079767167,
         0.6507949386973466,
         0.812233132953368,
         0.9726324080143947,
         1.1317277426399956,
         1.2892560914966835,
         1.4449567837597914,
         1.5985719181171654,
         1.749846753576126,
         1.898530095481481,
         2.044374676159646,
         2.1871375296120745,
         2.3265803596902104,
         2.4624699011940443,
         2.594578273347106,
         2.7226833251122393,
         2.8465689718249076,
         2.966025522633913,
         3.0808499982533375,
         3.190846438544216,
         3.2958261994598503,
         3.395608238904787,
         3.49001939107429,
         3.5788946288586008,
         3.66207731391433,
         3.739419434024074,
         3.810781827384543,
         3.8760343934833585,
         3.9350562902449417,
         3.9877361171467793,
         4.033972084028565,
         4.073672165338417,
         4.106754239582449,
         4.133146213766359,
         4.152786132640498,
         4.165622272582832,
         4.171613219977589,
         4.170727933970754,
         4.16294579350738,
         4.1482566285794,
         4.126660735636594,
         4.098168877137374,
         4.0628022652400455,
         4.020592529659283,
         3.9715816697364996,
         3.9158219907967666,
         3.853376024888712,
         3.7843164360274955,
         3.7087259100844667,
         3.6266970294903444,
         3.5383321329417967,
         3.4437431603240016,
         3.343051483084185,
         3.2363877203131954,
         3.1238915408137764,
         3.005711451455508,
         2.8820045721371113,
         2.75293639769711,
         2.61868054713368,
         2.4794185005136407,
         2.3353393239693205,
         2.186639383199963,
         2.033522045911865,
         1.8761973736481192,
         1.7148818034749305,
         1.549797820006912,
         1.3811736182682846,
         1.2092427579009244,
         1.0342438092431745,
         0.856419991815812,
         0.6760188057629231,
         0.4932916568061927,
         0.3084934752809676,
         0.12188232983129832,
         -0.06628096365056191,
         -0.2557332372476888,
         -0.44620936980611403,
         -0.6374426886822608,
         -0.8291653738414178,
         -1.0211088636948817,
         -1.2130042620607935,
         -1.4045827456320301,
         -1.5955759713336448,
         -1.785716482952571,
         -1.974738116423492,
         -2.162376403156612,
         -2.348368970796261,
         -2.5324559408029574,
         -2.714380322256558,
         -2.8938884012836414,
         -3.0707301255190975,
         -3.2446594830193063,
         -3.4154348750527097,
         -3.5828194822028916,
         -3.746581623229392,
         -3.906495106142472,
         -4.062339570959816,
         -4.2139008236257744,
         -4.360971160587188,
         -4.5033496835339015,
         -4.640842603827068,
         -4.77326353615389,
         -4.900433780963892,
         -5.02218259525863,
         -5.138347451324583,
         -5.248774283017136,
         -5.353317719222454,
         -5.451841304143434,
         -5.544217704076017,
         -5.630328900362419,
         -5.710066368228983,
         -5.783331241237588,
         -5.850034461101453,
         -5.910096912638306,
         -5.963449543656401,
         -6.010033469591747,
         -6.049800062737965,
         -6.08271102593357,
         -6.1087384505949975,
         -6.12786485900748,
         -6.140083230809642,
         -6.145397013631692,
         -6.143820117871115,
         -6.135376895613757,
         -6.120102103732245,
         -6.098040851217676,
         -6.0692485308243675,
         -6.0337907351312685,
         -5.991743157147203,
         -5.9431914756105915,
         -5.888231225157427,
         -5.826967651554277,
         -5.759515552215662,
         -5.685999102247473,
         -5.606551666280065,
         -5.52131559637612,
         -5.430442016319548,
         -5.334090592612282,
         -5.232429292525994,
         -5.125634129575374,
         -5.013888896798625,
         -4.897384888249389,
         -4.776320609122143,
         -4.650901474950243,
         -4.52133950033253,
         -4.3878529776601445,
         -4.250666146330347,
         -4.1100088529486465,
         -3.9661162030341393,
         -3.8192282047558277,
         -3.669589405239752,
         -3.5174485199981236,
         -3.363058056041928,
         -3.2066739292481348,
         -3.04855507656136,
         -2.888963063617548,
         -2.7281616883843753,
         -2.566416581418844,
         -2.4039948033479512,
         -2.2411644401822945,
         -2.07819419707587,
         -1.9153529911477076,
         -1.7529095439822204,
         -1.5911319744259562,
         -1.4302873922976176,
         -1.270641493627145,
         -1.1124581580371466,
         -0.9559990488767879,
         -0.8015232167141174,
         -0.6492867067875566,
         -0.4995421710115479,
         -0.3525384851241819,
         -0.20852037155702938,
         -0.06772802859857985,
         0.06960323358668646,
         0.20324334953207188,
         0.33296784709501975,
         0.45855818760764355,
         0.5798020970360871,
         0.6964938876468617,
         0.8084347696927118,
         0.9154331526457558,
         1.0173049355213404,
         1.113873785852788,
         1.2049714068941932,
         1.2904377926464106,
         1.3701214703198024,
         1.443879729866296,
         1.5115788402329506,
         1.5730942520093456,
         1.6283107861616983,
         1.6771228085677048,
         1.719434390087669,
         1.7551594519293015,
         1.7842218960859504,
         1.8065557206506033,
         1.8221051198308942,
         1.8308245685135989,
         1.8326788912504437,
         1.8276433155606995,
         1.8157035094697958,
         1.7968556032270735,
         1.7711061951697469,
         1.7384723417242165,
         1.6989815315598609,
         1.6526716439344877,
         1.5995908912945564,
         1.5397977462171588,
         1.4733608528044595,
         1.4003589226648643,
         1.3208806156385515,
         1.2350244054480748,
         1.142898430477667,
         1.044620329907326,
         0.9403170654500215,
         0.8301247289621194,
         0.7141883362186174,
         0.5926616071655879,
         0.46570673298294807,
         0.33349413031042796,
         0.19620218300924575,
         0.05401697185071841,
         -0.09286800745848134,
         -0.24425213748717578,
         -0.3999279830823914,
         -0.5596816057031397,
         -0.7232928876090419,
         -0.8905358654125046,
         -1.06117907248902,
         -1.2349858897267048,
         -1.4117149040835695,
         -1.5911202744092523,
         -1.7729521039767677,
         -1.9569568191598337,
         -2.142877553681936,
         -2.330454537854858,
         -2.519425492216866,
         -2.709526024973992,
         -2.9004900326423084,
         -3.0920501032838605,
         -3.283937921725462,
         -3.4758846761461175,
         -3.6676214654170614,
         -3.858879706577137,
         -4.049391541825996,
         -4.238890244418525,
         -4.427110622845265,
         -4.613789422686457,
         -4.798665725530765,
         -4.98148134435414,
         -5.161981214759745,
         -5.339913781485986,
         -5.5150313795971435,
         -5.687090609778736,
         -5.855852707169108,
         -6.021083903168249,
         -6.182555779675579,
         -6.34004561522,
         -6.493336722457541,
         -6.642218776525388,
         -6.786488133754535,
         -6.925948140258237,
         -7.060409429928571,
         -7.189690211389589,
         -7.313616543472205,
         -7.43202259879336,
         -7.544750915040153,
         -7.651652633577993,
         -7.752587725021373,
         -7.847425201425313,
         -7.936043314776029,
         -8.018329741479997,
         -8.094181752571835,
         -8.163506369383159,
         -8.226220504436412,
         -8.282251087350268,
         -8.331535175565747,
         -8.374020049725312,
         -8.409663293560353,
         -8.438432858166061,
         -8.460307110566267,
         -8.475274866494656,
         -8.483335407342672,
         -8.484498481248465,
         -8.47878428832517,
         -8.46622345005099,
         -8.446856962867372,
         -8.420736136055655,
         -8.387922513986316,
         -8.348487782858601,
         -8.302513662071902,
         -8.25009178039348,
         -8.191323537110142,
         -8.126319948374334,
         -8.055201478977459,
         -7.978097859805305,
         -7.895147891252276
        ]
       }
      }
     },
     "f1256a718ddb49bdb0f41d19302f1d3d": {
      "model_module": "bqplot",
      "model_module_version": "^0.2.3",
      "model_name": "FigureModel",
      "state": {
       "_dom_classes": [],
       "_model_module_version": "^0.2.3",
       "_view_module_version": "^0.2.3",
       "layout": "IPY_MODEL_45faa22f8d9d4087acfded1e5bcc936d",
       "marks": [
        "IPY_MODEL_9da13f57b4b144e8be4a3b1fbf861cb1",
        "IPY_MODEL_d83719cc089c49ea926e34f98c7acc28",
        "IPY_MODEL_8ef36e85b4ad4a9abc51f738b502a221",
        "IPY_MODEL_4d75cabeb0d444f58f190362694d189c"
       ],
       "max_aspect_ratio": 6,
       "scale_x": "IPY_MODEL_757f3b3f0cda4461be30f80c9050cfe1",
       "scale_y": "IPY_MODEL_3ebe5eeb0cb548db8aedab6a24328646"
      }
     },
     "f21d17d1ecf042d397a15413d2e0f8f3": {
      "model_module": "@jupyter-widgets/controls",
      "model_module_version": "1.0.0",
      "model_name": "DescriptionStyleModel",
      "state": {
       "description_width": ""
      }
     },
     "f4ec1066d6cd4a938bcd3eb120423a21": {
      "model_module": "@jupyter-widgets/controls",
      "model_module_version": "1.0.0",
      "model_name": "IntSliderModel",
      "state": {
       "description": "t",
       "layout": "IPY_MODEL_d33ebd94021e49c5806d10e8676c3b56",
       "max": 299,
       "readout": false,
       "style": "IPY_MODEL_af9477c457f24bd0b589541446b4983c",
       "value": 106
      }
     },
     "f67072038bc84e8189b8833e4c37d9e2": {
      "model_module": "@jupyter-widgets/base",
      "model_module_version": "1.0.0",
      "model_name": "LayoutModel",
      "state": {}
     },
     "fb567be50449471899660deea1affcbf": {
      "model_module": "bqplot",
      "model_module_version": "^0.2.3",
      "model_name": "LinearScaleModel",
      "state": {
       "_model_module_version": "^0.2.3",
       "_view_module_version": "^0.2.3",
       "max": 1,
       "min": 0,
       "stabilized": false
      }
     }
    },
    "version_major": 2,
    "version_minor": 0
   }
  }
 },
 "nbformat": 4,
 "nbformat_minor": 2
}
